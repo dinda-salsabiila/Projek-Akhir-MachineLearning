{
 "cells": [
  {
   "cell_type": "markdown",
   "id": "40f6913a",
   "metadata": {},
   "source": [
    "### Kelompok     : 9\n",
    "Anggota        :\n",
    "- Amelia Adriani \n",
    "- Dinda Salsabiila \n",
    "- Deeva Nabila "
   ]
  },
  {
   "cell_type": "markdown",
   "id": "1710813c",
   "metadata": {},
   "source": [
    "# TK 2  : Machine Learning Untuk Klasterisasi Tingkat Kematangan Buah Jeruk Lokal Menggunakan K-Means Clustering"
   ]
  },
  {
   "cell_type": "markdown",
   "id": "5a524f43",
   "metadata": {},
   "source": [
    "# Step 1: Import Library"
   ]
  },
  {
   "cell_type": "code",
   "execution_count": 1,
   "id": "0f38fc1f",
   "metadata": {},
   "outputs": [],
   "source": [
    "import pandas as pd\n",
    "import matplotlib.pyplot as plt\n",
    "import numpy as np\n",
    "from sklearn.preprocessing import MinMaxScaler\n",
    "from sklearn.preprocessing import StandardScaler\n",
    "from sklearn.decomposition import PCA\n",
    "from sklearn.cluster import KMeans\n",
    "from sklearn.metrics.cluster import rand_score,adjusted_rand_score\n",
    "from sklearn.metrics import silhouette_score"
   ]
  },
  {
   "cell_type": "markdown",
   "id": "904ef74c",
   "metadata": {},
   "source": [
    "# Step 2: EDA"
   ]
  },
  {
   "cell_type": "markdown",
   "id": "21f5c010",
   "metadata": {},
   "source": [
    "### 2.1: Loading data"
   ]
  },
  {
   "cell_type": "code",
   "execution_count": 2,
   "id": "ed0aa110",
   "metadata": {},
   "outputs": [
    {
     "data": {
      "text/html": [
       "<div>\n",
       "<style scoped>\n",
       "    .dataframe tbody tr th:only-of-type {\n",
       "        vertical-align: middle;\n",
       "    }\n",
       "\n",
       "    .dataframe tbody tr th {\n",
       "        vertical-align: top;\n",
       "    }\n",
       "\n",
       "    .dataframe thead th {\n",
       "        text-align: right;\n",
       "    }\n",
       "</style>\n",
       "<table border=\"1\" class=\"dataframe\">\n",
       "  <thead>\n",
       "    <tr style=\"text-align: right;\">\n",
       "      <th></th>\n",
       "      <th>No</th>\n",
       "      <th>Kemungkinan</th>\n",
       "      <th>H</th>\n",
       "      <th>S</th>\n",
       "      <th>V</th>\n",
       "    </tr>\n",
       "  </thead>\n",
       "  <tbody>\n",
       "    <tr>\n",
       "      <th>0</th>\n",
       "      <td>1</td>\n",
       "      <td>BM</td>\n",
       "      <td>82.618475</td>\n",
       "      <td>128.652525</td>\n",
       "      <td>112.761750</td>\n",
       "    </tr>\n",
       "    <tr>\n",
       "      <th>1</th>\n",
       "      <td>2</td>\n",
       "      <td>BM</td>\n",
       "      <td>87.029425</td>\n",
       "      <td>141.295950</td>\n",
       "      <td>110.023025</td>\n",
       "    </tr>\n",
       "    <tr>\n",
       "      <th>2</th>\n",
       "      <td>3</td>\n",
       "      <td>BM</td>\n",
       "      <td>84.977175</td>\n",
       "      <td>127.012425</td>\n",
       "      <td>116.185075</td>\n",
       "    </tr>\n",
       "    <tr>\n",
       "      <th>3</th>\n",
       "      <td>4</td>\n",
       "      <td>BM</td>\n",
       "      <td>86.270425</td>\n",
       "      <td>126.892975</td>\n",
       "      <td>106.896600</td>\n",
       "    </tr>\n",
       "    <tr>\n",
       "      <th>4</th>\n",
       "      <td>5</td>\n",
       "      <td>BM</td>\n",
       "      <td>85.454225</td>\n",
       "      <td>156.798725</td>\n",
       "      <td>86.185750</td>\n",
       "    </tr>\n",
       "  </tbody>\n",
       "</table>\n",
       "</div>"
      ],
      "text/plain": [
       "   No Kemungkinan          H           S           V\n",
       "0   1          BM  82.618475  128.652525  112.761750\n",
       "1   2          BM  87.029425  141.295950  110.023025\n",
       "2   3          BM  84.977175  127.012425  116.185075\n",
       "3   4          BM  86.270425  126.892975  106.896600\n",
       "4   5          BM  85.454225  156.798725   86.185750"
      ]
     },
     "execution_count": 2,
     "metadata": {},
     "output_type": "execute_result"
    }
   ],
   "source": [
    "data = pd.read_csv('HSV Jeruk.csv')\n",
    "data.head()"
   ]
  },
  {
   "cell_type": "code",
   "execution_count": 3,
   "id": "3a2d4d06",
   "metadata": {},
   "outputs": [
    {
     "data": {
      "text/plain": [
       "(27, 5)"
      ]
     },
     "execution_count": 3,
     "metadata": {},
     "output_type": "execute_result"
    }
   ],
   "source": [
    "data.shape"
   ]
  },
  {
   "cell_type": "markdown",
   "id": "b20ab9d9",
   "metadata": {},
   "source": [
    "### 2.2 Dropping unused data"
   ]
  },
  {
   "cell_type": "code",
   "execution_count": 6,
   "id": "6b169703",
   "metadata": {},
   "outputs": [
    {
     "data": {
      "text/html": [
       "<div>\n",
       "<style scoped>\n",
       "    .dataframe tbody tr th:only-of-type {\n",
       "        vertical-align: middle;\n",
       "    }\n",
       "\n",
       "    .dataframe tbody tr th {\n",
       "        vertical-align: top;\n",
       "    }\n",
       "\n",
       "    .dataframe thead th {\n",
       "        text-align: right;\n",
       "    }\n",
       "</style>\n",
       "<table border=\"1\" class=\"dataframe\">\n",
       "  <thead>\n",
       "    <tr style=\"text-align: right;\">\n",
       "      <th></th>\n",
       "      <th>H</th>\n",
       "      <th>S</th>\n",
       "      <th>V</th>\n",
       "    </tr>\n",
       "  </thead>\n",
       "  <tbody>\n",
       "    <tr>\n",
       "      <th>0</th>\n",
       "      <td>82.618475</td>\n",
       "      <td>128.652525</td>\n",
       "      <td>112.761750</td>\n",
       "    </tr>\n",
       "    <tr>\n",
       "      <th>1</th>\n",
       "      <td>87.029425</td>\n",
       "      <td>141.295950</td>\n",
       "      <td>110.023025</td>\n",
       "    </tr>\n",
       "    <tr>\n",
       "      <th>2</th>\n",
       "      <td>84.977175</td>\n",
       "      <td>127.012425</td>\n",
       "      <td>116.185075</td>\n",
       "    </tr>\n",
       "    <tr>\n",
       "      <th>3</th>\n",
       "      <td>86.270425</td>\n",
       "      <td>126.892975</td>\n",
       "      <td>106.896600</td>\n",
       "    </tr>\n",
       "    <tr>\n",
       "      <th>4</th>\n",
       "      <td>85.454225</td>\n",
       "      <td>156.798725</td>\n",
       "      <td>86.185750</td>\n",
       "    </tr>\n",
       "  </tbody>\n",
       "</table>\n",
       "</div>"
      ],
      "text/plain": [
       "           H           S           V\n",
       "0  82.618475  128.652525  112.761750\n",
       "1  87.029425  141.295950  110.023025\n",
       "2  84.977175  127.012425  116.185075\n",
       "3  86.270425  126.892975  106.896600\n",
       "4  85.454225  156.798725   86.185750"
      ]
     },
     "execution_count": 6,
     "metadata": {},
     "output_type": "execute_result"
    }
   ],
   "source": [
    "#penghapusan kolom dataframe yang tidak diperlukan dengan membuat variabel baru df\n",
    "data_new = data.drop(columns=['No','Kemungkinan'])\n",
    "data_new.head()"
   ]
  },
  {
   "cell_type": "code",
   "execution_count": 7,
   "id": "3def89c5",
   "metadata": {},
   "outputs": [
    {
     "data": {
      "text/plain": [
       "(27, 3)"
      ]
     },
     "execution_count": 7,
     "metadata": {},
     "output_type": "execute_result"
    }
   ],
   "source": [
    "data_new.shape"
   ]
  },
  {
   "cell_type": "markdown",
   "id": "7320aa21",
   "metadata": {},
   "source": [
    "### 2.3: Normalization data"
   ]
  },
  {
   "cell_type": "code",
   "execution_count": 8,
   "id": "1cb3b6a6",
   "metadata": {},
   "outputs": [
    {
     "data": {
      "text/html": [
       "<div>\n",
       "<style scoped>\n",
       "    .dataframe tbody tr th:only-of-type {\n",
       "        vertical-align: middle;\n",
       "    }\n",
       "\n",
       "    .dataframe tbody tr th {\n",
       "        vertical-align: top;\n",
       "    }\n",
       "\n",
       "    .dataframe thead th {\n",
       "        text-align: right;\n",
       "    }\n",
       "</style>\n",
       "<table border=\"1\" class=\"dataframe\">\n",
       "  <thead>\n",
       "    <tr style=\"text-align: right;\">\n",
       "      <th></th>\n",
       "      <th>H</th>\n",
       "      <th>S</th>\n",
       "      <th>V</th>\n",
       "    </tr>\n",
       "  </thead>\n",
       "  <tbody>\n",
       "    <tr>\n",
       "      <th>0</th>\n",
       "      <td>0.000000</td>\n",
       "      <td>0.020407</td>\n",
       "      <td>0.272171</td>\n",
       "    </tr>\n",
       "    <tr>\n",
       "      <th>1</th>\n",
       "      <td>0.204452</td>\n",
       "      <td>0.167042</td>\n",
       "      <td>0.249204</td>\n",
       "    </tr>\n",
       "    <tr>\n",
       "      <th>2</th>\n",
       "      <td>0.109328</td>\n",
       "      <td>0.001385</td>\n",
       "      <td>0.300878</td>\n",
       "    </tr>\n",
       "    <tr>\n",
       "      <th>3</th>\n",
       "      <td>0.169271</td>\n",
       "      <td>0.000000</td>\n",
       "      <td>0.222987</td>\n",
       "    </tr>\n",
       "    <tr>\n",
       "      <th>4</th>\n",
       "      <td>0.131440</td>\n",
       "      <td>0.346839</td>\n",
       "      <td>0.049310</td>\n",
       "    </tr>\n",
       "  </tbody>\n",
       "</table>\n",
       "</div>"
      ],
      "text/plain": [
       "          H         S         V\n",
       "0  0.000000  0.020407  0.272171\n",
       "1  0.204452  0.167042  0.249204\n",
       "2  0.109328  0.001385  0.300878\n",
       "3  0.169271  0.000000  0.222987\n",
       "4  0.131440  0.346839  0.049310"
      ]
     },
     "execution_count": 8,
     "metadata": {},
     "output_type": "execute_result"
    }
   ],
   "source": [
    "std = MinMaxScaler().fit_transform(data_new)\n",
    "\n",
    "data_std = pd.DataFrame(std, columns=['H','S','V'])\n",
    "data_std.head()"
   ]
  },
  {
   "cell_type": "markdown",
   "id": "9fe1356b",
   "metadata": {},
   "source": [
    "### 2.4: Visualization data"
   ]
  },
  {
   "cell_type": "markdown",
   "id": "6293f48a",
   "metadata": {},
   "source": [
    "#### 2.4.1 Chosing principal data"
   ]
  },
  {
   "cell_type": "code",
   "execution_count": 10,
   "id": "916c6334",
   "metadata": {},
   "outputs": [
    {
     "data": {
      "text/plain": [
       "array([[-0.62488742,  0.27581099],\n",
       "       [-0.43388884,  0.11919871],\n",
       "       [-0.54752337,  0.27813461],\n",
       "       [-0.55511923,  0.20099602],\n",
       "       [-0.50738625, -0.11653646],\n",
       "       [-0.40939138, -0.14558315],\n",
       "       [-0.60720688,  0.04506204],\n",
       "       [-0.4285565 , -0.14682307],\n",
       "       [-0.25726685, -0.24790836],\n",
       "       [-0.26900077, -0.08911464],\n",
       "       [-0.03059277, -0.193554  ],\n",
       "       [-0.21070838, -0.01413266],\n",
       "       [-0.1137071 , -0.05334162],\n",
       "       [-0.24229866, -0.04567521],\n",
       "       [ 0.0579975 , -0.08942034],\n",
       "       [-0.08666673, -0.107099  ],\n",
       "       [ 0.08578833, -0.14473664],\n",
       "       [-0.02361125,  0.15267725],\n",
       "       [ 0.52185047,  0.11420485],\n",
       "       [ 0.51517208, -0.01090009],\n",
       "       [ 0.61893878, -0.12408266],\n",
       "       [ 0.58025741,  0.13688168],\n",
       "       [ 0.63442161, -0.0044332 ],\n",
       "       [ 0.50436986, -0.11825013],\n",
       "       [ 0.5093977 , -0.13346983],\n",
       "       [ 0.67089935,  0.26375902],\n",
       "       [ 0.6487193 ,  0.19833591]])"
      ]
     },
     "execution_count": 10,
     "metadata": {},
     "output_type": "execute_result"
    }
   ],
   "source": [
    "pca = PCA(n_components=2)\n",
    "arr_pca = pca.fit_transform(std)\n",
    "arr_pca"
   ]
  },
  {
   "cell_type": "markdown",
   "id": "513fec92",
   "metadata": {},
   "source": [
    "#### 2.4.2 Mapping data"
   ]
  },
  {
   "cell_type": "code",
   "execution_count": 14,
   "id": "753812a4",
   "metadata": {},
   "outputs": [
    {
     "data": {
      "text/html": [
       "<div>\n",
       "<style scoped>\n",
       "    .dataframe tbody tr th:only-of-type {\n",
       "        vertical-align: middle;\n",
       "    }\n",
       "\n",
       "    .dataframe tbody tr th {\n",
       "        vertical-align: top;\n",
       "    }\n",
       "\n",
       "    .dataframe thead th {\n",
       "        text-align: right;\n",
       "    }\n",
       "</style>\n",
       "<table border=\"1\" class=\"dataframe\">\n",
       "  <thead>\n",
       "    <tr style=\"text-align: right;\">\n",
       "      <th></th>\n",
       "      <th>Kemungkinan</th>\n",
       "    </tr>\n",
       "  </thead>\n",
       "  <tbody>\n",
       "    <tr>\n",
       "      <th>0</th>\n",
       "      <td>2</td>\n",
       "    </tr>\n",
       "    <tr>\n",
       "      <th>1</th>\n",
       "      <td>2</td>\n",
       "    </tr>\n",
       "    <tr>\n",
       "      <th>2</th>\n",
       "      <td>2</td>\n",
       "    </tr>\n",
       "    <tr>\n",
       "      <th>3</th>\n",
       "      <td>2</td>\n",
       "    </tr>\n",
       "    <tr>\n",
       "      <th>4</th>\n",
       "      <td>2</td>\n",
       "    </tr>\n",
       "    <tr>\n",
       "      <th>5</th>\n",
       "      <td>2</td>\n",
       "    </tr>\n",
       "    <tr>\n",
       "      <th>6</th>\n",
       "      <td>2</td>\n",
       "    </tr>\n",
       "    <tr>\n",
       "      <th>7</th>\n",
       "      <td>2</td>\n",
       "    </tr>\n",
       "    <tr>\n",
       "      <th>8</th>\n",
       "      <td>2</td>\n",
       "    </tr>\n",
       "    <tr>\n",
       "      <th>9</th>\n",
       "      <td>0</td>\n",
       "    </tr>\n",
       "    <tr>\n",
       "      <th>10</th>\n",
       "      <td>0</td>\n",
       "    </tr>\n",
       "    <tr>\n",
       "      <th>11</th>\n",
       "      <td>0</td>\n",
       "    </tr>\n",
       "    <tr>\n",
       "      <th>12</th>\n",
       "      <td>0</td>\n",
       "    </tr>\n",
       "    <tr>\n",
       "      <th>13</th>\n",
       "      <td>0</td>\n",
       "    </tr>\n",
       "    <tr>\n",
       "      <th>14</th>\n",
       "      <td>0</td>\n",
       "    </tr>\n",
       "    <tr>\n",
       "      <th>15</th>\n",
       "      <td>0</td>\n",
       "    </tr>\n",
       "    <tr>\n",
       "      <th>16</th>\n",
       "      <td>0</td>\n",
       "    </tr>\n",
       "    <tr>\n",
       "      <th>17</th>\n",
       "      <td>0</td>\n",
       "    </tr>\n",
       "    <tr>\n",
       "      <th>18</th>\n",
       "      <td>1</td>\n",
       "    </tr>\n",
       "    <tr>\n",
       "      <th>19</th>\n",
       "      <td>1</td>\n",
       "    </tr>\n",
       "    <tr>\n",
       "      <th>20</th>\n",
       "      <td>1</td>\n",
       "    </tr>\n",
       "    <tr>\n",
       "      <th>21</th>\n",
       "      <td>1</td>\n",
       "    </tr>\n",
       "    <tr>\n",
       "      <th>22</th>\n",
       "      <td>1</td>\n",
       "    </tr>\n",
       "    <tr>\n",
       "      <th>23</th>\n",
       "      <td>1</td>\n",
       "    </tr>\n",
       "    <tr>\n",
       "      <th>24</th>\n",
       "      <td>1</td>\n",
       "    </tr>\n",
       "    <tr>\n",
       "      <th>25</th>\n",
       "      <td>1</td>\n",
       "    </tr>\n",
       "    <tr>\n",
       "      <th>26</th>\n",
       "      <td>1</td>\n",
       "    </tr>\n",
       "  </tbody>\n",
       "</table>\n",
       "</div>"
      ],
      "text/plain": [
       "    Kemungkinan\n",
       "0             2\n",
       "1             2\n",
       "2             2\n",
       "3             2\n",
       "4             2\n",
       "5             2\n",
       "6             2\n",
       "7             2\n",
       "8             2\n",
       "9             0\n",
       "10            0\n",
       "11            0\n",
       "12            0\n",
       "13            0\n",
       "14            0\n",
       "15            0\n",
       "16            0\n",
       "17            0\n",
       "18            1\n",
       "19            1\n",
       "20            1\n",
       "21            1\n",
       "22            1\n",
       "23            1\n",
       "24            1\n",
       "25            1\n",
       "26            1"
      ]
     },
     "execution_count": 14,
     "metadata": {},
     "output_type": "execute_result"
    }
   ],
   "source": [
    "size_mapping = {'BM':2, 'SM':0, 'M':1}\n",
    "data['Kemungkinan'] = data['Kemungkinan'].map(size_mapping)\n",
    "mapp = data['Kemungkinan']\n",
    "\n",
    "df_mapp = pd.DataFrame(mapp)\n",
    "df_mapp"
   ]
  },
  {
   "cell_type": "code",
   "execution_count": 15,
   "id": "0b6a9be2",
   "metadata": {},
   "outputs": [
    {
     "data": {
      "text/plain": [
       "[2,\n",
       " 2,\n",
       " 2,\n",
       " 2,\n",
       " 2,\n",
       " 2,\n",
       " 2,\n",
       " 2,\n",
       " 2,\n",
       " 0,\n",
       " 0,\n",
       " 0,\n",
       " 0,\n",
       " 0,\n",
       " 0,\n",
       " 0,\n",
       " 0,\n",
       " 0,\n",
       " 1,\n",
       " 1,\n",
       " 1,\n",
       " 1,\n",
       " 1,\n",
       " 1,\n",
       " 1,\n",
       " 1,\n",
       " 1]"
      ]
     },
     "execution_count": 15,
     "metadata": {},
     "output_type": "execute_result"
    }
   ],
   "source": [
    "df_mapp = df_mapp.values\n",
    "\n",
    "maping = []\n",
    "for i in range (len(df_mapp)):\n",
    "    maping.append(df_mapp[i][0])\n",
    "    \n",
    "maping"
   ]
  },
  {
   "cell_type": "markdown",
   "id": "2bf0d0c3",
   "metadata": {},
   "source": [
    "### 2.4.3 Data plotting"
   ]
  },
  {
   "cell_type": "code",
   "execution_count": 16,
   "id": "1cab30a0",
   "metadata": {},
   "outputs": [
    {
     "name": "stderr",
     "output_type": "stream",
     "text": [
      "No handles with labels found to put in legend.\n"
     ]
    },
    {
     "data": {
      "image/png": "[encoded data removed]",
      "text/plain": [
       "<Figure size 576x360 with 1 Axes>"
      ]
     },
     "metadata": {
      "needs_background": "light"
     },
     "output_type": "display_data"
    }
   ],
   "source": [
    "#targets = ['Belum Matang','Setengah Matang','Matang']\n",
    "colors = ['b','b','b']\n",
    "\n",
    "plt.figure(figsize=(8,5))\n",
    "\n",
    "for i,color in zip ([0,1,2],colors):\n",
    "    plt.scatter(arr_pca[mapp==i, 0],\n",
    "                arr_pca[mapp==i, 1],\n",
    "                color=color,\n",
    "                alpha=0.5)\n",
    "\n",
    "#plt.xlabel('PC 1')\n",
    "#plt.ylabel('PC 2')\n",
    "plt.legend(loc='lower center')\n",
    "plt.title('Scatter Plot')\n",
    "plt.tight_layout()\n",
    "plt.grid()\n",
    "plt.show()"
   ]
  },
  {
   "cell_type": "markdown",
   "id": "1a509b86",
   "metadata": {},
   "source": [
    "# Step 3: KMEAN Clustering"
   ]
  },
  {
   "cell_type": "markdown",
   "id": "30df9879",
   "metadata": {},
   "source": [
    "### 3.1 Load Dataframe for KMeans"
   ]
  },
  {
   "cell_type": "code",
   "execution_count": 11,
   "id": "de2e115e",
   "metadata": {},
   "outputs": [
    {
     "name": "stdout",
     "output_type": "stream",
     "text": [
      "[0 0 0 0 0 0 0 0 2 2 2 2 2 2 2 2 2 2 1 1 1 1 1 1 1 1 1]\n"
     ]
    }
   ],
   "source": [
    "#Import required module\n",
    "from sklearn.cluster import KMeans\n",
    " \n",
    "#Initialize the class object\n",
    "kmeans = KMeans(n_clusters= 3)\n",
    " \n",
    "#predict the labels of clusters.\n",
    "label = kmeans.fit_predict(arr_pca)\n",
    " \n",
    "print(label)"
   ]
  },
  {
   "cell_type": "markdown",
   "id": "4225f70e",
   "metadata": {},
   "source": [
    "### 3.2 KMeans Clustering and Plotting"
   ]
  },
  {
   "cell_type": "code",
   "execution_count": 13,
   "id": "3bc58c2d",
   "metadata": {
    "scrolled": true
   },
   "outputs": [
    {
     "data": {
      "image/png": "[encoded data removed]",
      "text/plain": [
       "<Figure size 432x288 with 1 Axes>"
      ]
     },
     "metadata": {
      "needs_background": "light"
     },
     "output_type": "display_data"
    }
   ],
   "source": [
    "#Getting unique labels\n",
    "centroids = kmeans.cluster_centers_\n",
    "u_labels = np.unique(label)\n",
    " \n",
    "#plotting the results:\n",
    " \n",
    "for i in u_labels:\n",
    "    plt.scatter(arr_pca[label == i , 0] , arr_pca[label == i , 1] , label = i)\n",
    "plt.scatter(centroids[:,0] , centroids[:,1] , s = 70, color = 'k')\n",
    "plt.legend()\n",
    "plt.show()"
   ]
  },
  {
   "cell_type": "markdown",
   "id": "ba8507d0",
   "metadata": {},
   "source": [
    "# Step 4: Cluster Evaluation"
   ]
  },
  {
   "cell_type": "markdown",
   "id": "95237166",
   "metadata": {},
   "source": [
    "### 4.1 Checking score accuration"
   ]
  },
  {
   "cell_type": "code",
   "execution_count": 18,
   "id": "e2a827d6",
   "metadata": {},
   "outputs": [
    {
     "data": {
      "text/plain": [
       "1.0"
      ]
     },
     "execution_count": 18,
     "metadata": {},
     "output_type": "execute_result"
    }
   ],
   "source": [
    "round(rand_score(maping,label),1)"
   ]
  },
  {
   "cell_type": "code",
   "execution_count": 19,
   "id": "02d7f8b5",
   "metadata": {},
   "outputs": [
    {
     "data": {
      "text/plain": [
       "0.9"
      ]
     },
     "execution_count": 19,
     "metadata": {},
     "output_type": "execute_result"
    }
   ],
   "source": [
    "round(adjusted_rand_score(maping,label),1)"
   ]
  },
  {
   "cell_type": "markdown",
   "id": "e8ee24da",
   "metadata": {},
   "source": [
    "### 4.2 Checking ideal cluster"
   ]
  },
  {
   "cell_type": "code",
   "execution_count": 21,
   "id": "038826cd",
   "metadata": {},
   "outputs": [
    {
     "name": "stderr",
     "output_type": "stream",
     "text": [
      "C:\\Users\\ACER\\anaconda3\\lib\\site-packages\\sklearn\\cluster\\_kmeans.py:881: UserWarning: KMeans is known to have a memory leak on Windows with MKL, when there are less chunks than available threads. You can avoid it by setting the environment variable OMP_NUM_THREADS=1.\n",
      "  warnings.warn(\n"
     ]
    }
   ],
   "source": [
    "inertia = []\n",
    "for k in range (1, 10):\n",
    "    cluster_model = KMeans(n_clusters = k, random_state = 9)\n",
    "    cluster_model.fit(arr_pca)\n",
    "    inertia_value = cluster_model.inertia_\n",
    "    inertia.append(inertia_value)"
   ]
  },
  {
   "cell_type": "code",
   "execution_count": 22,
   "id": "92359170",
   "metadata": {},
   "outputs": [
    {
     "data": {
      "image/png": "[encoded data removed]",
      "text/plain": [
       "<Figure size 576x432 with 1 Axes>"
      ]
     },
     "metadata": {
      "needs_background": "light"
     },
     "output_type": "display_data"
    }
   ],
   "source": [
    "plt.figure(figsize=(8,6))\n",
    "plt.plot(range(1,10), inertia)\n",
    "plt.title('Elbow Method')\n",
    "plt.xlabel('Number of Clusters')\n",
    "plt.ylabel('Inertia')\n",
    "plt.show()"
   ]
  },
  {
   "cell_type": "code",
   "execution_count": null,
   "id": "fe554eb4",
   "metadata": {},
   "outputs": [],
   "source": []
  }
 ],
 "metadata": {
  "kernelspec": {
   "display_name": "Python 3",
   "language": "python",
   "name": "python3"
  },
  "language_info": {
   "codemirror_mode": {
    "name": "ipython",
    "version": 3
   },
   "file_extension": ".py",
   "mimetype": "text/x-python",
   "name": "python",
   "nbconvert_exporter": "python",
   "pygments_lexer": "ipython3",
   "version": "3.8.8"
  }
 },
 "nbformat": 4,
 "nbformat_minor": 5
}
